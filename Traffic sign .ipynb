{
 "cells": [
  {
   "cell_type": "code",
   "execution_count": 3,
   "id": "010ea839",
   "metadata": {},
   "outputs": [
    {
     "name": "stderr",
     "output_type": "stream",
     "text": [
      "Using TensorFlow backend.\n"
     ]
    }
   ],
   "source": [
    "import numpy as np\n",
    "import pandas as pd\n",
    "import matplotlib.pyplot as plt\n",
    "import cv2\n",
    "import tensorflow as tf\n",
    "from PIL import Image\n",
    "import os\n",
    "from sklearn.model_selection import train_test_split\n",
    "from keras.utils import to_categorical\n",
    "from keras.models import Sequential, load_model\n",
    "from keras.layers import Conv2D, MaxPool2D, Dense, Flatten, Dropout"
   ]
  },
  {
   "cell_type": "code",
   "execution_count": 4,
   "id": "e984947b",
   "metadata": {},
   "outputs": [],
   "source": [
    "data = []\n",
    "labels = []\n",
    "classes = 43\n",
    "cur_path = os.getcwd()"
   ]
  },
  {
   "cell_type": "code",
   "execution_count": 5,
   "id": "4541e4ff",
   "metadata": {},
   "outputs": [],
   "source": [
    "for i in range(classes):\n",
    "    path = os.path.join(cur_path,'Train',str(i))\n",
    "    images = os.listdir(path)\n",
    "    \n",
    "    for a in images:\n",
    "        try:\n",
    "            image = Image.open(path + '\\\\' + a)\n",
    "            image = image.resize((30,30))\n",
    "            image = np.array(image)\n",
    "            data.append(image)\n",
    "            labels.append(i)\n",
    "        except:\n",
    "            print('Error loading image')\n",
    "            \n",
    "data = np.array(data)\n",
    "labels = np.array(labels)            "
   ]
  },
  {
   "cell_type": "code",
   "execution_count": 6,
   "id": "2a9df250",
   "metadata": {},
   "outputs": [
    {
     "name": "stdout",
     "output_type": "stream",
     "text": [
      "(39209, 30, 30, 3) (39209,)\n",
      "(31367, 30, 30, 3) (7842, 30, 30, 3) (31367,) (7842,)\n"
     ]
    }
   ],
   "source": [
    "print(data.shape, labels.shape)\n",
    "X_train, X_test, y_train, y_test = train_test_split(data, labels, test_size=0.2, random_state=42)\n",
    "print(X_train.shape, X_test.shape, y_train.shape, y_test.shape)\n",
    "y_train = to_categorical(y_train, 43)\n",
    "y_test = to_categorical(y_test, 43)"
   ]
  },
  {
   "cell_type": "code",
   "execution_count": 7,
   "id": "5b030343",
   "metadata": {},
   "outputs": [],
   "source": [
    "##CNN model\n",
    "model = Sequential()\n",
    "model.add(Conv2D(filters=32, kernel_size=(5,5), activation='relu', input_shape=X_train.shape[1:]))\n",
    "model.add(Conv2D(filters=32, kernel_size=(5,5), activation='relu'))\n",
    "model.add(MaxPool2D(pool_size=(2,2)))\n",
    "model.add(Dropout(rate=0.25))\n",
    "model.add(Conv2D(filters=64, kernel_size=(3,3), activation='relu'))\n",
    "model.add(Conv2D(filters=64, kernel_size=(3,3), activation='relu'))\n",
    "model.add(MaxPool2D(pool_size=(2,2)))\n",
    "model.add(Dropout(rate=0.25))\n",
    "model.add(Flatten())\n",
    "model.add(Dense(256, activation='relu'))\n",
    "model.add(Dropout(rate=0.5))\n",
    "model.add(Dense(43, activation='softmax'))\n",
    "\n",
    "##compilation of the model\n",
    "model.compile(loss='categorical_crossentropy', optimizer='adam', metrics=['accuracy'])"
   ]
  },
  {
   "cell_type": "code",
   "execution_count": 8,
   "id": "56ef40f1",
   "metadata": {},
   "outputs": [
    {
     "name": "stdout",
     "output_type": "stream",
     "text": [
      "Train on 31367 samples, validate on 7842 samples\n",
      "Epoch 1/15\n",
      "31367/31367 [==============================] - 309s 10ms/step - loss: 2.1293 - accuracy: 0.4517 - val_loss: 0.6088 - val_accuracy: 0.8503\n",
      "Epoch 2/15\n",
      "31367/31367 [==============================] - 286s 9ms/step - loss: 0.7773 - accuracy: 0.7682 - val_loss: 0.3241 - val_accuracy: 0.9134\n",
      "Epoch 3/15\n",
      "31367/31367 [==============================] - 283s 9ms/step - loss: 0.4807 - accuracy: 0.8520 - val_loss: 0.1368 - val_accuracy: 0.9629\n",
      "Epoch 4/15\n",
      "31367/31367 [==============================] - 284s 9ms/step - loss: 0.3432 - accuracy: 0.8962 - val_loss: 0.1419 - val_accuracy: 0.9630\n",
      "Epoch 5/15\n",
      "31367/31367 [==============================] - 282s 9ms/step - loss: 0.2745 - accuracy: 0.9185 - val_loss: 0.0796 - val_accuracy: 0.9769\n",
      "Epoch 6/15\n",
      "31367/31367 [==============================] - 284s 9ms/step - loss: 0.2253 - accuracy: 0.9339 - val_loss: 0.0731 - val_accuracy: 0.9805\n",
      "Epoch 7/15\n",
      "31367/31367 [==============================] - 284s 9ms/step - loss: 0.2075 - accuracy: 0.9403 - val_loss: 0.0592 - val_accuracy: 0.9841\n",
      "Epoch 8/15\n",
      "31367/31367 [==============================] - 289s 9ms/step - loss: 0.1925 - accuracy: 0.9444 - val_loss: 0.0664 - val_accuracy: 0.9818\n",
      "Epoch 9/15\n",
      "31367/31367 [==============================] - 285s 9ms/step - loss: 0.1762 - accuracy: 0.9474 - val_loss: 0.0856 - val_accuracy: 0.9753\n",
      "Epoch 10/15\n",
      "31367/31367 [==============================] - 285s 9ms/step - loss: 0.1607 - accuracy: 0.9550 - val_loss: 0.0596 - val_accuracy: 0.9842\n",
      "Epoch 11/15\n",
      "31367/31367 [==============================] - 292s 9ms/step - loss: 0.1679 - accuracy: 0.9539 - val_loss: 0.0655 - val_accuracy: 0.9818\n",
      "Epoch 12/15\n",
      "31367/31367 [==============================] - 286s 9ms/step - loss: 0.1934 - accuracy: 0.9454 - val_loss: 0.0446 - val_accuracy: 0.9874\n",
      "Epoch 13/15\n",
      "31367/31367 [==============================] - 288s 9ms/step - loss: 0.1448 - accuracy: 0.9602 - val_loss: 0.0494 - val_accuracy: 0.9862\n",
      "Epoch 14/15\n",
      "31367/31367 [==============================] - 294s 9ms/step - loss: 0.1582 - accuracy: 0.9547 - val_loss: 0.0367 - val_accuracy: 0.9885\n",
      "Epoch 15/15\n",
      "31367/31367 [==============================] - 286s 9ms/step - loss: 0.1306 - accuracy: 0.9627 - val_loss: 0.0386 - val_accuracy: 0.9883\n"
     ]
    }
   ],
   "source": [
    "epochs = 15\n",
    "history = model.fit(X_train, y_train, batch_size=64, epochs=epochs, validation_data=(X_test, y_test))"
   ]
  },
  {
   "cell_type": "code",
   "execution_count": 9,
   "id": "8dc5f7e0",
   "metadata": {},
   "outputs": [
    {
     "data": {
      "text/plain": [
       "<matplotlib.legend.Legend at 0x2ad57dd4f98>"
      ]
     },
     "execution_count": 9,
     "metadata": {},
     "output_type": "execute_result"
    },
    {
     "data": {
      "image/png": "[encoded data removed]",
      "text/plain": [
       "<Figure size 432x288 with 1 Axes>"
      ]
     },
     "metadata": {
      "needs_background": "light"
     },
     "output_type": "display_data"
    },
    {
     "data": {
      "image/png": "[encoded data removed]",
      "text/plain": [
       "<Figure size 432x288 with 1 Axes>"
      ]
     },
     "metadata": {
      "needs_background": "light"
     },
     "output_type": "display_data"
    }
   ],
   "source": [
    "plt.figure(0)\n",
    "plt.plot(history.history['accuracy'], label='training accuracy')\n",
    "plt.plot(history.history['val_accuracy'], label='val accuracy')\n",
    "plt.title('Accuracy')\n",
    "plt.xlabel('epochs')\n",
    "plt.ylabel('accuracy')\n",
    "plt.legend()\n",
    "\n",
    "plt.figure(1)\n",
    "plt.plot(history.history['loss'], label='training loss')\n",
    "plt.plot(history.history['val_loss'], label='val loss')\n",
    "plt.title('Loss')\n",
    "plt.xlabel('epochs')\n",
    "plt.ylabel('loss')\n",
    "plt.legend()"
   ]
  },
  {
   "cell_type": "code",
   "execution_count": 10,
   "id": "df2dc9df",
   "metadata": {},
   "outputs": [],
   "source": [
    "model.save(r'E:\\practice\\data_flair\\Traffic sign classification\\Traffic sign classification\\traffic_classifier.h5')"
   ]
  },
  {
   "cell_type": "code",
   "execution_count": 11,
   "id": "872349ee",
   "metadata": {},
   "outputs": [
    {
     "data": {
      "text/plain": [
       "0.9596991290577989"
      ]
     },
     "execution_count": 11,
     "metadata": {},
     "output_type": "execute_result"
    }
   ],
   "source": [
    "from sklearn.metrics import accuracy_score\n",
    "import pandas as pd\n",
    "y_test = pd.read_csv(r'E:\\practice\\data_flair\\Traffic sign classification\\Traffic sign classification\\Test.csv')\n",
    "labels = y_test['ClassId'].values\n",
    "imgs = y_test['Path'].values\n",
    "\n",
    "data=[]\n",
    "\n",
    "for img in imgs:\n",
    "    image = Image.open(img)\n",
    "    image = image.resize((30,30))\n",
    "    data.append(np.array(image))\n",
    "    \n",
    "X_test = np.array(data)\n",
    "\n",
    "pred = model.predict_classes(X_test)\n",
    "\n",
    "accuracy_score(labels, pred)\n",
    "    \n",
    "    "
   ]
  },
  {
   "cell_type": "code",
   "execution_count": 16,
   "id": "48344f7a",
   "metadata": {},
   "outputs": [
    {
     "name": "stdout",
     "output_type": "stream",
     "text": [
      "Predicted sign:[11]\n"
     ]
    },
    {
     "data": {
      "image/png": "[encoded data removed]",
      "text/plain": [
       "<Figure size 432x288 with 1 Axes>"
      ]
     },
     "metadata": {
      "needs_background": "light"
     },
     "output_type": "display_data"
    }
   ],
   "source": [
    "#testing\n",
    "plt.imshow(X_test[900])\n",
    "prediction = str(model.predict_classes(X_test[900].reshape(1, 30, 30, 3)))\n",
    "print('Predicted sign:'+ prediction)"
   ]
  },
  {
   "cell_type": "code",
   "execution_count": 17,
   "id": "506656b5",
   "metadata": {},
   "outputs": [
    {
     "data": {
      "text/plain": [
       "'[11]'"
      ]
     },
     "execution_count": 17,
     "metadata": {},
     "output_type": "execute_result"
    }
   ],
   "source": [
    "prediction"
   ]
  },
  {
   "cell_type": "code",
   "execution_count": 18,
   "id": "9197f719",
   "metadata": {},
   "outputs": [],
   "source": [
    "sign_names = ['Speed limit (20km/h)',\n",
    "            'Speed limit (30km/h)', \n",
    "            'Speed limit (50km/h)', \n",
    "            'Speed limit (60km/h)', \n",
    "            'Speed limit (70km/h)', \n",
    "            'Speed limit (80km/h)', \n",
    "            'End of speed limit (80km/h)', \n",
    "            'Speed limit (100km/h)', \n",
    "            'Speed limit (120km/h)', \n",
    "        'No passing', \n",
    "            'No passing veh over 3.5 tons', \n",
    "            'Right-of-way at intersection', \n",
    "            'Priority road', \n",
    "            'Yield', \n",
    "            'Stop', \n",
    "            'No vehicles', \n",
    "            'Veh > 3.5 tons prohibited', \n",
    "            'No entry', \n",
    "            'General caution', \n",
    "            'Dangerous curve left', \n",
    "            'Dangerous curve right', \n",
    "            'Double curve', \n",
    "            'Bumpy road', \n",
    "            'Slippery road', \n",
    "            'Road narrows on the right', \n",
    "            'Road work', \n",
    "            'Traffic signals', \n",
    "            'Pedestrians', \n",
    "            'Children crossing', \n",
    "            'Bicycles crossing', \n",
    "            'Beware of ice/snow',\n",
    "            'Wild animals crossing', \n",
    "            'End speed + passing limits', \n",
    "            'Turn right ahead', \n",
    "            'Turn left ahead', \n",
    "            'Ahead only', \n",
    "            'Go straight or right', \n",
    "            'Go straight or left', \n",
    "            'Keep right', \n",
    "            'Keep left', \n",
    "            'Roundabout mandatory', \n",
    "            'End of no passing', \n",
    "            'End no passing veh > 3.5 tons']"
   ]
  },
  {
   "cell_type": "code",
   "execution_count": 19,
   "id": "c2f8e958",
   "metadata": {},
   "outputs": [
    {
     "data": {
      "text/plain": [
       "'Right-of-way at intersection'"
      ]
     },
     "execution_count": 19,
     "metadata": {},
     "output_type": "execute_result"
    }
   ],
   "source": [
    "pred_value = prediction[1:3]\n",
    "pred_statement = sign_names[int(pred_value)]\n",
    "pred_statement"
   ]
  },
  {
   "cell_type": "code",
   "execution_count": 1,
   "id": "f12ae47d",
   "metadata": {},
   "outputs": [
    {
     "name": "stderr",
     "output_type": "stream",
     "text": [
      "Using TensorFlow backend.\n"
     ]
    }
   ],
   "source": [
    "import tkinter as tk\n",
    "from tkinter import filedialog\n",
    "from tkinter import *\n",
    "from PIL import ImageTk, Image\n",
    "\n",
    "import numpy\n",
    "#load the trained model to classify sign\n",
    "from keras.models import load_model\n",
    "model = load_model(r'E:\\practice\\data_flair\\Traffic sign classification\\Traffic sign classification\\traffic_classifier.h5')\n"
   ]
  },
  {
   "cell_type": "code",
   "execution_count": 2,
   "id": "5d4d682f",
   "metadata": {},
   "outputs": [],
   "source": [
    "#dictionary to label all traffic signs class.\n",
    "classes = { 1:'Speed limit (20km/h)',\n",
    "            2:'Speed limit (30km/h)', \n",
    "            3:'Speed limit (50km/h)', \n",
    "            4:'Speed limit (60km/h)', \n",
    "            5:'Speed limit (70km/h)', \n",
    "            6:'Speed limit (80km/h)', \n",
    "            7:'End of speed limit (80km/h)', \n",
    "            8:'Speed limit (100km/h)', \n",
    "            9:'Speed limit (120km/h)', \n",
    "            10:'No passing', \n",
    "            11:'No passing veh over 3.5 tons', \n",
    "            12:'Right-of-way at intersection', \n",
    "            13:'Priority road', \n",
    "            14:'Yield', \n",
    "            15:'Stop', \n",
    "            16:'No vehicles', \n",
    "            17:'Veh > 3.5 tons prohibited', \n",
    "            18:'No entry', \n",
    "            19:'General caution', \n",
    "            20:'Dangerous curve left', \n",
    "            21:'Dangerous curve right', \n",
    "            22:'Double curve', \n",
    "            23:'Bumpy road', \n",
    "            24:'Slippery road', \n",
    "            25:'Road narrows on the right', \n",
    "            26:'Road work', \n",
    "            27:'Traffic signals', \n",
    "            28:'Pedestrians', \n",
    "            29:'Children crossing', \n",
    "            30:'Bicycles crossing', \n",
    "            31:'Beware of ice/snow',\n",
    "            32:'Wild animals crossing', \n",
    "            33:'End speed + passing limits', \n",
    "            34:'Turn right ahead', \n",
    "            35:'Turn left ahead', \n",
    "            36:'Ahead only', \n",
    "            37:'Go straight or right', \n",
    "            38:'Go straight or left', \n",
    "            39:'Keep right', \n",
    "            40:'Keep left', \n",
    "            41:'Roundabout mandatory', \n",
    "            42:'End of no passing', \n",
    "            43:'End no passing veh > 3.5 tons' }"
   ]
  },
  {
   "cell_type": "code",
   "execution_count": null,
   "id": "51127634",
   "metadata": {},
   "outputs": [
    {
     "name": "stdout",
     "output_type": "stream",
     "text": [
      "Speed limit (30km/h)\n",
      "Stop\n",
      "Ahead only\n"
     ]
    }
   ],
   "source": [
    "#initialise GUI\n",
    "top=tk.Tk()\n",
    "top.geometry('800x600')\n",
    "top.title('Traffic sign classification')\n",
    "top.configure(background='#CDCDCD')\n",
    "\n",
    "label=Label(top,background='#CDCDCD', font=('arial',15,'bold'))\n",
    "sign_image = Label(top)\n",
    "\n",
    "def classify(file_path):\n",
    "    global label_packed\n",
    "    image = Image.open(file_path)\n",
    "    image = image.resize((30,30))\n",
    "    image = numpy.expand_dims(image, axis=0)\n",
    "    image = numpy.array(image)\n",
    "    pred = model.predict_classes([image])[0]\n",
    "    sign = classes[pred+1]\n",
    "    print(sign)\n",
    "    label.configure(foreground='#011638', text=sign) \n",
    "\n",
    "def show_classify_button(file_path):\n",
    "    classify_b=Button(top,text=\"Classify Image\",command=lambda: classify(file_path),padx=10,pady=5)\n",
    "    classify_b.configure(background='#364156', foreground='white',font=('arial',10,'bold'))\n",
    "    classify_b.place(relx=0.79,rely=0.46)\n",
    "\n",
    "def upload_image():\n",
    "    try:\n",
    "        file_path=filedialog.askopenfilename()\n",
    "        uploaded=Image.open(file_path)\n",
    "        uploaded.thumbnail(((top.winfo_width()/2.25),(top.winfo_height()/2.25)))\n",
    "        im=ImageTk.PhotoImage(uploaded)\n",
    "\n",
    "        sign_image.configure(image=im)\n",
    "        sign_image.image=im\n",
    "        label.configure(text='')\n",
    "        show_classify_button(file_path)\n",
    "    except:\n",
    "        pass\n",
    "\n",
    "upload=Button(top,text=\"Upload an image\",command=upload_image,padx=10,pady=5)\n",
    "upload.configure(background='#364156', foreground='white',font=('arial',10,'bold'))\n",
    "\n",
    "upload.pack(side=BOTTOM,pady=50)\n",
    "sign_image.pack(side=BOTTOM,expand=True)\n",
    "label.pack(side=BOTTOM,expand=True)\n",
    "heading = Label(top, text=\"Know Your Traffic Sign\",pady=20, font=('arial',20,'bold'))\n",
    "heading.configure(background='#CDCDCD',foreground='#364156')\n",
    "heading.pack()\n",
    "top.mainloop()"
   ]
  }
 ],
 "metadata": {
  "kernelspec": {
   "display_name": "Python 3",
   "language": "python",
   "name": "python3"
  },
  "language_info": {
   "codemirror_mode": {
    "name": "ipython",
    "version": 3
   },
   "file_extension": ".py",
   "mimetype": "text/x-python",
   "name": "python",
   "nbconvert_exporter": "python",
   "pygments_lexer": "ipython3",
   "version": "3.6.13"
  }
 },
 "nbformat": 4,
 "nbformat_minor": 5
}
